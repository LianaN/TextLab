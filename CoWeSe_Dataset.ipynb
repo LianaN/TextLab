{
  "nbformat": 4,
  "nbformat_minor": 0,
  "metadata": {
    "colab": {
      "provenance": [],
      "gpuType": "T4",
      "authorship_tag": "ABX9TyM6ixRrxqJL98i9dU0viziS",
      "include_colab_link": true
    },
    "kernelspec": {
      "name": "python3",
      "display_name": "Python 3"
    },
    "language_info": {
      "name": "python"
    },
    "accelerator": "GPU"
  },
  "cells": [
    {
      "cell_type": "markdown",
      "metadata": {
        "id": "view-in-github",
        "colab_type": "text"
      },
      "source": [
        "<a href=\"https://colab.research.google.com/github/LianaN/TextLab/blob/main/CoWeSe_Dataset.ipynb\" target=\"_parent\"><img src=\"https://colab.research.google.com/assets/colab-badge.svg\" alt=\"Open In Colab\"/></a>"
      ]
    },
    {
      "cell_type": "code",
      "execution_count": null,
      "metadata": {
        "id": "Td3MLFuqrUZN",
        "colab": {
          "base_uri": "https://localhost:8080/"
        },
        "outputId": "095b1026-a896-4358-bf00-bd152eb24005"
      },
      "outputs": [
        {
          "output_type": "stream",
          "name": "stdout",
          "text": [
            "Fri Jul 14 10:59:43 2023       \n",
            "+-----------------------------------------------------------------------------+\n",
            "| NVIDIA-SMI 525.105.17   Driver Version: 525.105.17   CUDA Version: 12.0     |\n",
            "|-------------------------------+----------------------+----------------------+\n",
            "| GPU  Name        Persistence-M| Bus-Id        Disp.A | Volatile Uncorr. ECC |\n",
            "| Fan  Temp  Perf  Pwr:Usage/Cap|         Memory-Usage | GPU-Util  Compute M. |\n",
            "|                               |                      |               MIG M. |\n",
            "|===============================+======================+======================|\n",
            "|   0  Tesla T4            Off  | 00000000:00:04.0 Off |                    0 |\n",
            "| N/A   61C    P8    10W /  70W |      0MiB / 15360MiB |      0%      Default |\n",
            "|                               |                      |                  N/A |\n",
            "+-------------------------------+----------------------+----------------------+\n",
            "                                                                               \n",
            "+-----------------------------------------------------------------------------+\n",
            "| Processes:                                                                  |\n",
            "|  GPU   GI   CI        PID   Type   Process name                  GPU Memory |\n",
            "|        ID   ID                                                   Usage      |\n",
            "|=============================================================================|\n",
            "|  No running processes found                                                 |\n",
            "+-----------------------------------------------------------------------------+\n"
          ]
        }
      ],
      "source": [
        "! nvidia-smi"
      ]
    },
    {
      "cell_type": "code",
      "source": [
        "!pip install -q -U trl transformers\n",
        "!pip install -q datasets"
      ],
      "metadata": {
        "id": "ZmWefjv5neDQ"
      },
      "execution_count": 6,
      "outputs": []
    },
    {
      "cell_type": "code",
      "source": [
        "from datasets import load_dataset_builder, load_dataset, get_dataset_split_names, get_dataset_config_names"
      ],
      "metadata": {
        "id": "ZZ495aImItUn"
      },
      "execution_count": 16,
      "outputs": []
    },
    {
      "cell_type": "markdown",
      "source": [
        "# **1. Load Base Dataset**\n",
        "\n",
        "---\n",
        "\n"
      ],
      "metadata": {
        "id": "zOa21hNrpGqe"
      }
    },
    {
      "cell_type": "code",
      "source": [
        "dataset_name = \"ittailup/cowese\""
      ],
      "metadata": {
        "id": "jiJdLAezIwrB"
      },
      "execution_count": 8,
      "outputs": []
    },
    {
      "cell_type": "markdown",
      "source": [
        "Use the load_dataset_builder() function to load a dataset builder and inspect a dataset’s attributes without committing to downloading it."
      ],
      "metadata": {
        "id": "BfFH8oZ2nuCb"
      }
    },
    {
      "cell_type": "code",
      "source": [
        "ds_builder = load_dataset_builder(dataset_name)\n",
        "\n",
        "# Inspect dataset description\n",
        "ds_builder.info.description"
      ],
      "metadata": {
        "id": "7w7tcP-4I0KM",
        "colab": {
          "base_uri": "https://localhost:8080/",
          "height": 35
        },
        "outputId": "d21bdbf0-1c2a-4c9e-ac8d-1c86257f64e6"
      },
      "execution_count": 18,
      "outputs": [
        {
          "output_type": "execute_result",
          "data": {
            "text/plain": [
              "''"
            ],
            "application/vnd.google.colaboratory.intrinsic+json": {
              "type": "string"
            }
          },
          "metadata": {},
          "execution_count": 18
        }
      ]
    },
    {
      "cell_type": "code",
      "source": [
        "# Inspect dataset features\n",
        "ds_builder.info.features"
      ],
      "metadata": {
        "colab": {
          "base_uri": "https://localhost:8080/"
        },
        "id": "yw12FnrRnozY",
        "outputId": "12ce4f22-3385-4f8c-b30c-b604fffa0851"
      },
      "execution_count": 19,
      "outputs": [
        {
          "output_type": "execute_result",
          "data": {
            "text/plain": [
              "{'items': {'text': Value(dtype='string', id=None)}}"
            ]
          },
          "metadata": {},
          "execution_count": 19
        }
      ]
    },
    {
      "cell_type": "code",
      "source": [
        "get_dataset_split_names(dataset_name)"
      ],
      "metadata": {
        "colab": {
          "base_uri": "https://localhost:8080/"
        },
        "id": "6D-m2dLjohSG",
        "outputId": "12a6b964-75ac-4652-896f-46fa09481c62"
      },
      "execution_count": 22,
      "outputs": [
        {
          "output_type": "execute_result",
          "data": {
            "text/plain": [
              "['train']"
            ]
          },
          "metadata": {},
          "execution_count": 22
        }
      ]
    },
    {
      "cell_type": "code",
      "source": [
        "get_dataset_config_names(dataset_name)"
      ],
      "metadata": {
        "colab": {
          "base_uri": "https://localhost:8080/"
        },
        "id": "mrVTZF03ozXq",
        "outputId": "4ee90258-5956-4612-f061-0909c4976b7b"
      },
      "execution_count": 23,
      "outputs": [
        {
          "output_type": "execute_result",
          "data": {
            "text/plain": [
              "['ittailup--cowese']"
            ]
          },
          "metadata": {},
          "execution_count": 23
        }
      ]
    },
    {
      "cell_type": "code",
      "source": [
        "dataset = load_dataset(dataset_name, split=\"train\")"
      ],
      "metadata": {
        "colab": {
          "base_uri": "https://localhost:8080/"
        },
        "id": "soK6qZBLn7Ss",
        "outputId": "ba0e682f-0e1c-4e32-c6c1-5b9a52cc0e2a"
      },
      "execution_count": 24,
      "outputs": [
        {
          "output_type": "stream",
          "name": "stderr",
          "text": [
            "WARNING:datasets.builder:Found cached dataset parquet (/root/.cache/huggingface/datasets/ittailup___parquet/ittailup--cowese-829a0ac467618389/0.0.0/14a00e99c0d15a23649d0db8944380ac81082d4b021f398733dd84f3a6c569a7)\n"
          ]
        }
      ]
    },
    {
      "cell_type": "markdown",
      "source": [
        "# **2. Inspect Base Dataset**"
      ],
      "metadata": {
        "id": "6o2c5sDDpOHw"
      }
    },
    {
      "cell_type": "code",
      "source": [
        "dataset"
      ],
      "metadata": {
        "colab": {
          "base_uri": "https://localhost:8080/"
        },
        "id": "cnDyPJwipkTL",
        "outputId": "8097dd15-d9ce-446e-ec49-7fdd26ce5b69"
      },
      "execution_count": 25,
      "outputs": [
        {
          "output_type": "execute_result",
          "data": {
            "text/plain": [
              "Dataset({\n",
              "    features: ['items'],\n",
              "    num_rows: 1972472\n",
              "})"
            ]
          },
          "metadata": {},
          "execution_count": 25
        }
      ]
    },
    {
      "cell_type": "code",
      "source": [
        "dataset[0]"
      ],
      "metadata": {
        "colab": {
          "base_uri": "https://localhost:8080/"
        },
        "id": "k-VwDbdbpk9f",
        "outputId": "6fdf8c33-6b8e-44f1-f59c-5a42edfe75ac"
      },
      "execution_count": 27,
      "outputs": [
        {
          "output_type": "execute_result",
          "data": {
            "text/plain": [
              "{'items': {'text': 'Existen diversos factores que influyen en el paso de sustancias a la leche materna como, por ejemplo, la unión a proteínas plasmáticas, ionización, grado de liposolubilidad, peso molecular, etc. Tales parámetros varían según los fármacos.\\nAdemás, no hay suficientes estudios para un número elevado de medicamentos, sobre todo para los de reciente comercialización.\\nDe hecho, la recomendación «contraindicado durante la lactancia», hace referencia sobre todo a la falta de estudios farmacocinéticos sobre la excreción en leche materna, y no a la existencia de observaciones clínicas.\\nEn este artículo se exponen los datos disponibles sobre fármacos de uso común y algunos principios sencillos para facilitar la labor de los profesionales de la salud a la hora de prescribir medicación a una mujer durante la lactancia.'}}"
            ]
          },
          "metadata": {},
          "execution_count": 27
        }
      ]
    },
    {
      "cell_type": "code",
      "source": [
        "dataset[0][\"items\"]"
      ],
      "metadata": {
        "colab": {
          "base_uri": "https://localhost:8080/"
        },
        "id": "9-lzQ--Tpnj4",
        "outputId": "004ef6ed-a29a-48eb-c5fe-ddbee1a4b2d0"
      },
      "execution_count": 28,
      "outputs": [
        {
          "output_type": "execute_result",
          "data": {
            "text/plain": [
              "{'text': 'Existen diversos factores que influyen en el paso de sustancias a la leche materna como, por ejemplo, la unión a proteínas plasmáticas, ionización, grado de liposolubilidad, peso molecular, etc. Tales parámetros varían según los fármacos.\\nAdemás, no hay suficientes estudios para un número elevado de medicamentos, sobre todo para los de reciente comercialización.\\nDe hecho, la recomendación «contraindicado durante la lactancia», hace referencia sobre todo a la falta de estudios farmacocinéticos sobre la excreción en leche materna, y no a la existencia de observaciones clínicas.\\nEn este artículo se exponen los datos disponibles sobre fármacos de uso común y algunos principios sencillos para facilitar la labor de los profesionales de la salud a la hora de prescribir medicación a una mujer durante la lactancia.'}"
            ]
          },
          "metadata": {},
          "execution_count": 28
        }
      ]
    },
    {
      "cell_type": "code",
      "source": [],
      "metadata": {
        "id": "FVCLfpRzp17s"
      },
      "execution_count": null,
      "outputs": []
    }
  ]
}