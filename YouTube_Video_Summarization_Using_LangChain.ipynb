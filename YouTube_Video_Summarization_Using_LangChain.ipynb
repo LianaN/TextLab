{
  "nbformat": 4,
  "nbformat_minor": 0,
  "metadata": {
    "colab": {
      "provenance": [],
      "authorship_tag": "ABX9TyMTyx93zt9bPhOGrYylpl1f",
      "include_colab_link": true
    },
    "kernelspec": {
      "name": "python3",
      "display_name": "Python 3"
    },
    "language_info": {
      "name": "python"
    }
  },
  "cells": [
    {
      "cell_type": "markdown",
      "metadata": {
        "id": "view-in-github",
        "colab_type": "text"
      },
      "source": [
        "<a href=\"https://colab.research.google.com/github/LianaN/TextLab/blob/main/YouTube_Video_Summarization_Using_LangChain.ipynb\" target=\"_parent\"><img src=\"https://colab.research.google.com/assets/colab-badge.svg\" alt=\"Open In Colab\"/></a>"
      ]
    },
    {
      "cell_type": "code",
      "execution_count": 16,
      "metadata": {
        "id": "GGwTVUfl9IRy"
      },
      "outputs": [],
      "source": [
        "#! pip install openai\n",
        "#! pip install langchain\n",
        "#! pip install yt_dlp\n",
        "#! pip install pydub\n",
        "#! pip install python-dotenv"
      ]
    },
    {
      "cell_type": "markdown",
      "source": [
        "# 1. Import Libraries"
      ],
      "metadata": {
        "id": "lSp1L_pxOoci"
      }
    },
    {
      "cell_type": "code",
      "source": [
        "import os\n",
        "from dotenv import load_dotenv, find_dotenv\n",
        "import sys\n",
        "sys.path.append(\"../..\")\n",
        "\n",
        "import openai\n",
        "\n",
        "from langchain import OpenAI, PromptTemplate\n",
        "from langchain.prompts import PromptTemplate\n",
        "\n",
        "from langchain.document_loaders.generic import GenericLoader\n",
        "from langchain.document_loaders.parsers import OpenAIWhisperParser\n",
        "from langchain.document_loaders.blob_loaders.youtube_audio import YoutubeAudioLoader\n",
        "\n",
        "from langchain.chains.summarize import load_summarize_chain\n",
        "from langchain.chains import LLMChain\n",
        "\n",
        "from langchain.agents import initialize_agent, AgentType\n",
        "\n",
        "from langchain.agents.agent_toolkits import AzureCognitiveServicesToolkit\n",
        "from langchain.tools.azure_cognitive_services.text2speech import AzureCogsText2SpeechTool"
      ],
      "metadata": {
        "id": "ZlEm2Hyp-qfP"
      },
      "execution_count": 62,
      "outputs": []
    },
    {
      "cell_type": "markdown",
      "source": [
        "# 2. Set Configuration"
      ],
      "metadata": {
        "id": "SyFSj4qsOyyG"
      }
    },
    {
      "cell_type": "code",
      "source": [
        "#_ = load_dotenv(find_dotenv())"
      ],
      "metadata": {
        "id": "v9xOV9LnDHl5"
      },
      "execution_count": 2,
      "outputs": []
    },
    {
      "cell_type": "code",
      "source": [
        "os.environ[\"OPENAI_API_KEY\"] = \"...\"\n",
        "os.environ[\"AZURE_COGS_KEY\"] = \"...\"\n",
        "os.environ[\"AZURE_COGS_ENDPOINT\"] = \"...\"\n",
        "os.environ[\"AZURE_COGS_REGION\"] = \"...\""
      ],
      "metadata": {
        "id": "QpEBW3xHJuJO"
      },
      "execution_count": 35,
      "outputs": []
    },
    {
      "cell_type": "code",
      "source": [
        "openai.api_key = os.environ[\"OPENAI_API_KEY\"]"
      ],
      "metadata": {
        "id": "TWis-m4-DoGv"
      },
      "execution_count": 4,
      "outputs": []
    },
    {
      "cell_type": "markdown",
      "source": [
        "# 3. Load YouTube Video"
      ],
      "metadata": {
        "id": "29mO8C_dOuf1"
      }
    },
    {
      "cell_type": "code",
      "source": [
        "youtube_url = \"https://youtu.be/HEfHFsfGXjs\"\n",
        "save_dir = \"docs/youtube\"\n",
        "loader = GenericLoader(\n",
        "    YoutubeAudioLoader([youtube_url], save_dir),\n",
        "    OpenAIWhisperParser()\n",
        ")\n",
        "docs = loader.load()"
      ],
      "metadata": {
        "colab": {
          "base_uri": "https://localhost:8080/"
        },
        "id": "dxp5Yge4_WqZ",
        "outputId": "25559238-5737-44bc-923f-2dd2241c71eb"
      },
      "execution_count": 5,
      "outputs": [
        {
          "output_type": "stream",
          "name": "stdout",
          "text": [
            "[youtube] Extracting URL: https://youtu.be/HEfHFsfGXjs\n",
            "[youtube] HEfHFsfGXjs: Downloading webpage\n",
            "[youtube] HEfHFsfGXjs: Downloading ios player API JSON\n",
            "[youtube] HEfHFsfGXjs: Downloading android player API JSON\n",
            "[youtube] HEfHFsfGXjs: Downloading m3u8 information\n",
            "[info] HEfHFsfGXjs: Downloading 1 format(s): 140\n",
            "[download] docs/youtube/The most unexpected answer to a counting puzzle.m4a has already been downloaded\n",
            "[download] 100% of    4.82MiB\n",
            "[ExtractAudio] Not converting audio docs/youtube/The most unexpected answer to a counting puzzle.m4a; file is already in target format m4a\n",
            "Transcribing part 1!\n"
          ]
        }
      ]
    },
    {
      "cell_type": "code",
      "source": [
        "docs[0].page_content"
      ],
      "metadata": {
        "colab": {
          "base_uri": "https://localhost:8080/",
          "height": 157
        },
        "id": "AYoT8GkxAoDJ",
        "outputId": "3ed049b6-589b-4c3e-8803-1ed9a582a790"
      },
      "execution_count": 14,
      "outputs": [
        {
          "output_type": "execute_result",
          "data": {
            "text/plain": [
              "\"Sometimes, math and physics conspire in ways that just feel too good to be true. Let's play a strange sort of mathematical croquet. We're going to have two sliding blocks and a wall. The first block starts by coming in at some velocity from the right, while the second one starts out stationary. Being overly idealistic physicists, let's assume that there's no friction, and all of the collisions are perfectly elastic, which means no energy is lost. The astute among you might complain that such collisions would make no sound, but your goal here is going to be to count how many collisions take place. So in slight conflict with that assumption, I want to leave a little clack sound to better draw your attention to that count. The simplest case is when both blocks have the same mass. The first block hits the second, transferring all of its momentum, then the second one bounces off the wall, and then transfers all of its momentum back to the first, which then sails off towards infinity. Three total clacks. What about if the first block was 100 times the mass of the second one? I promise I will explain to you all the relevant physics in due course, it's not entirely obvious how you would predict the dynamics here, but in the spirit of getting to the punchline, let's watch what happens. The second one will keep bouncing back and forth between the wall and the first block 100 times its mass, like a satisfying game of breakout, slowly and discreetly redirecting that first block's momentum to point in the opposite direction. In total, there will be 31 collisions before each block is sliding off towards infinity, never to be touched again. What if the first block was 10,000 times the mass of the second one? In that case, there would be quite a few more clacks, all happening very rapidly at one point, adding up in all to 313 total collisions. Well, actually, hang on, wait for it, wait for it... Okay, 314 clacks. If the first block was 1,000,000 times the mass of the other, then again, with all of our crazy idealistic conditions, almost all of the clacks happen in one big burst, this time resulting in a total of 3,141 collisions. Perhaps you see the pattern here, though it's forgivable if you don't since it defies all expectation. When the mass of that first block is some power of 100 times the mass of the second, the total number of collisions have the same digits as pi. This absolutely blew my mind when it was first shared with me. Credit to the viewer Henry Cavill for introducing me to this fact, which was originally discovered by the mathematician Gregory Galperin in 1995, and published in 2003. Part of what I love about this is that if ever there were Olympic games for algorithms that compute pi, this one would have to win medals both for being the most elegant and for being the most comically inefficient. I mean, think about the actual algorithm here. Step 1, implement a physics engine. Step 2, choose the number of digits d of pi you'd like to compute. Step 3, set the mass of one of the blocks to be 100 to the power d-1, then send it traveling on a frictionless surface towards a block of mass 1. And step 4, count all of the collisions. So for example, to calculate only 20 digits of pi, which fits so cleanly on this screen, one block would have to have 100 billion billion billion billion times the mass of the other, which if that small block was 1 kg, means the big one has a mass about 10 times that of the supermassive black hole at the center of the Milky Way. That means you would need to count about 31 billion billion collisions, and at one point in this virtual process, the frequency of clacks would be around 100 billion billion billion billion clacks per second. So let's just say you would need very good numerical precision to get this working accurately, and it would take a very long time for the algorithm to complete. I'll emphasize again that this process is way over-idealized, quickly departing from anything that could possibly happen in real physics. But of course, you all know this is not interesting because of its potential as an actual pi computing algorithm or as a pragmatic physics demonstration. It's mind-boggling because why on earth would pi show up here? And it's in such a weird way, too. Its decimal digits are counting something, but usually pi shows up when its precise value is describing something continuous. I will show you why this is true. Where there is pi, there is a hidden circle, and in this case, that hidden circle comes from the conservation of energy. In fact, you're going to see two separate methods, which are each as stunning and surprising as the fact itself. Delaying gratification, though, I will make you wait until the next video to see what's going on. In the meantime, I highly encourage you to take a stab at it yourself, and be social about it. It's a hard puzzle, so it never hurts to recruit some other smart minds to the task.\""
            ],
            "application/vnd.google.colaboratory.intrinsic+json": {
              "type": "string"
            }
          },
          "metadata": {},
          "execution_count": 14
        }
      ]
    },
    {
      "cell_type": "code",
      "source": [
        "llm = OpenAI(temperature=0, max_tokens = 2000)"
      ],
      "metadata": {
        "id": "uaKDrjUmNssN"
      },
      "execution_count": 54,
      "outputs": []
    },
    {
      "cell_type": "markdown",
      "source": [
        "# 4. Summarize Transcription Text\n",
        "\n",
        "## 4.1. Summarize using \"load_summarize_chain\""
      ],
      "metadata": {
        "id": "IPPqu_cUOcvt"
      }
    },
    {
      "cell_type": "code",
      "source": [
        "chain = load_summarize_chain(llm, chain_type=\"stuff\")\n",
        "summary = chain.run(docs)\n",
        "print(summary)"
      ],
      "metadata": {
        "colab": {
          "base_uri": "https://localhost:8080/"
        },
        "id": "-fXlX3eSOHLB",
        "outputId": "cae9be7f-168e-48ab-f37e-cb8226f90e94"
      },
      "execution_count": 55,
      "outputs": [
        {
          "output_type": "stream",
          "name": "stdout",
          "text": [
            " This video explores the strange mathematical phenomenon of pi appearing in the number of collisions between two blocks of different masses when they are sent sliding on a frictionless surface. The video explains the relevant physics and provides two methods for understanding why pi appears in this situation. It encourages viewers to take a stab at understanding the phenomenon themselves.\n"
          ]
        }
      ]
    },
    {
      "cell_type": "markdown",
      "source": [
        "## 4.2. Summarize using \"load_summarize_chain\" and prompt instruction"
      ],
      "metadata": {
        "id": "DpsqxAcCOhog"
      }
    },
    {
      "cell_type": "code",
      "source": [
        "prompt_template = \"\"\"Write a concise summary of the following: {text}\"\"\"\n",
        "prompt = PromptTemplate(template=prompt_template, input_variables=[\"text\"])\n",
        "chain = load_summarize_chain(llm, chain_type=\"stuff\", prompt=prompt)\n",
        "summary = chain.run(docs)\n",
        "print(summary)"
      ],
      "metadata": {
        "colab": {
          "base_uri": "https://localhost:8080/"
        },
        "id": "hizMAZIaMFVN",
        "outputId": "fcfe3e37-0a17-4e7d-baab-a0073439b913"
      },
      "execution_count": 56,
      "outputs": [
        {
          "output_type": "stream",
          "name": "stdout",
          "text": [
            "\n",
            "\n",
            "This article discusses a mathematical phenomenon in which the number of collisions between two blocks of different masses is equal to the digits of pi. The article explains that if the first block is 100 times the mass of the second, there will be 31 collisions, and if the first block is 1,000,000 times the mass of the second, there will be 3,141 collisions. The article explains that this phenomenon is due to the conservation of energy, and encourages readers to try to figure out why this is the case.\n"
          ]
        }
      ]
    },
    {
      "cell_type": "markdown",
      "source": [
        "# 5. Translate a Summary to Russian"
      ],
      "metadata": {
        "id": "z6qb6yuJcYiq"
      }
    },
    {
      "cell_type": "code",
      "source": [
        "prompt = PromptTemplate.from_template(\"Translate this summary from English to Russian {summary}?\")\n",
        "chain = LLMChain(llm=llm, prompt=prompt)\n",
        "summary_ru = chain.run(summary)\n",
        "print(summary_ru)"
      ],
      "metadata": {
        "colab": {
          "base_uri": "https://localhost:8080/"
        },
        "id": "man3MuyhNxah",
        "outputId": "91b006d0-523c-4c3b-b163-65348a5bab84"
      },
      "execution_count": 57,
      "outputs": [
        {
          "output_type": "stream",
          "name": "stdout",
          "text": [
            "\n",
            "\n",
            "В этой статье рассматривается математическое явление, при котором количество столкновений между двумя блоками разной массы равно цифрам пи. Статья объясняет, что если первый блок в 100 раз больше второго, будет 31 столкновение, а если первый блок в 1 000 000 раз больше второго, будет 3 141 столкновение. Статья объясняет, что это явление обусловлено законом сохранения энергии и призывает читателей попробовать выяснить, почему это так.\n"
          ]
        }
      ]
    },
    {
      "cell_type": "markdown",
      "source": [
        "# 6. Convert a Summary Text into a Speech (Text-To-Speech)"
      ],
      "metadata": {
        "id": "ppzr8s6QnODC"
      }
    },
    {
      "cell_type": "markdown",
      "source": [],
      "metadata": {
        "id": "Y1Gq_1C6kPRj"
      }
    },
    {
      "cell_type": "code",
      "source": [
        "#!pip install --upgrade azure-ai-formrecognizer > /dev/null\n",
        "#!pip install --upgrade azure-cognitiveservices-speech > /dev/null\n",
        "#!pip install --upgrade azure-ai-vision > /dev/null"
      ],
      "metadata": {
        "id": "6_WXToRGkP4V"
      },
      "execution_count": 41,
      "outputs": []
    },
    {
      "cell_type": "code",
      "source": [
        "toolkit = AzureCognitiveServicesToolkit()\n",
        "[tool.name for tool in toolkit.get_tools()]"
      ],
      "metadata": {
        "colab": {
          "base_uri": "https://localhost:8080/"
        },
        "id": "jJUs4-hfc73H",
        "outputId": "778ea530-1d89-4202-db17-3acfd1a38622"
      },
      "execution_count": 58,
      "outputs": [
        {
          "output_type": "execute_result",
          "data": {
            "text/plain": [
              "['azure_cognitive_services_form_recognizer',\n",
              " 'azure_cognitive_services_speech2text',\n",
              " 'azure_cognitive_services_text2speech',\n",
              " 'azure_cognitive_services_image_analysis']"
            ]
          },
          "metadata": {},
          "execution_count": 58
        }
      ]
    },
    {
      "cell_type": "code",
      "source": [
        "speechtotext = AzureCogsText2SpeechTool(speech_language = \"ru-RU\", speech_config={\"speech_synthesis_voice_name\":\"ru-RU-SvetlanaNeural\"})"
      ],
      "metadata": {
        "id": "XNe8lcQ1orLx"
      },
      "execution_count": 70,
      "outputs": []
    },
    {
      "cell_type": "code",
      "source": [
        "agent = initialize_agent(\n",
        "    tools=[speechtotext], #toolkit.get_tools(),\n",
        "    llm=llm,\n",
        "    agent=AgentType.CHAT_ZERO_SHOT_REACT_DESCRIPTION,\n",
        "    verbose=True,\n",
        ")"
      ],
      "metadata": {
        "id": "aKbKXLDfj-VO"
      },
      "execution_count": 71,
      "outputs": []
    },
    {
      "cell_type": "code",
      "source": [
        "agent.run(f\"\"\"Convert the summary text to speech using text-to-speech: {summary_ru}?\"\"\")"
      ],
      "metadata": {
        "colab": {
          "base_uri": "https://localhost:8080/",
          "height": 367
        },
        "id": "IrfuOlEPkq39",
        "outputId": "9f944f9e-ce71-407b-e68f-827fa7a7a7e9"
      },
      "execution_count": 72,
      "outputs": [
        {
          "output_type": "stream",
          "name": "stdout",
          "text": [
            "\n",
            "\n",
            "\u001b[1m> Entering new AgentExecutor chain...\u001b[0m\n",
            "\u001b[32;1m\u001b[1;3m\n",
            "Thought: I need to use the azure_cognitive_services_text2speech tool to convert the text to speech.\n",
            "Action:\n",
            "```\n",
            "{\n",
            "  \"action\": \"azure_cognitive_services_text2speech\",\n",
            "  \"action_input\": \"В этой статье рассматривается математическое явление, при котором количество столкновений между двумя блоками разной массы равно цифрам пи. Статья объясняет, что если первый блок в 100 раз больше второго, будет 31 столкновение, а если первый блок в 1 000 000 раз больше второго, будет 3 141 столкновение. Статья объясняет, что это явление обусловлено законом сохранения энергии и призывает читателей попробовать выяснить, почему это так.\"\n",
            "}\n",
            "```\n",
            "\u001b[0m\n",
            "Observation: \u001b[36;1m\u001b[1;3m/tmp/tmpkbgxq1zp.wav\u001b[0m\n",
            "Thought:\u001b[32;1m\u001b[1;3m I now have the audio file of the text\n",
            "Final Answer: /tmp/tmpkbgxq1zp.wav\u001b[0m\n",
            "\n",
            "\u001b[1m> Finished chain.\u001b[0m\n"
          ]
        },
        {
          "output_type": "execute_result",
          "data": {
            "text/plain": [
              "'/tmp/tmpkbgxq1zp.wav'"
            ],
            "application/vnd.google.colaboratory.intrinsic+json": {
              "type": "string"
            }
          },
          "metadata": {},
          "execution_count": 72
        }
      ]
    },
    {
      "cell_type": "code",
      "source": [],
      "metadata": {
        "id": "6P9xvajfk3_b"
      },
      "execution_count": null,
      "outputs": []
    }
  ]
}